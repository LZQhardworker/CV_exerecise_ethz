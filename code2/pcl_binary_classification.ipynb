{
 "cells": [
  {
   "cell_type": "markdown",
   "metadata": {},
   "source": [
    "# Point Cloud Binary Classification with PyTorch"
   ]
  },
  {
   "cell_type": "markdown",
   "metadata": {},
   "source": [
    "Make sure you are using the `dl4cv` conda environment."
   ]
  },
  {
   "cell_type": "markdown",
   "metadata": {},
   "source": [
    "## Dataset loading and visualization"
   ]
  },
  {
   "cell_type": "markdown",
   "metadata": {},
   "source": [
    "The input X contain 100 2D points, and y are their corresponding labels (0 or 1). The goal is to train a model that can classify every point to its correct label.\n"
   ]
  },
  {
   "cell_type": "code",
   "execution_count": 1,
   "metadata": {},
   "outputs": [
    {
     "data": {
      "image/png": "[encoded data removed]",
      "text/plain": [
       "<Figure size 432x288 with 1 Axes>"
      ]
     },
     "metadata": {
      "needs_background": "light"
     },
     "output_type": "display_data"
    },
    {
     "data": {
      "text/plain": [
       "<Figure size 432x288 with 0 Axes>"
      ]
     },
     "metadata": {},
     "output_type": "display_data"
    }
   ],
   "source": [
    "%matplotlib inline\n",
    "import matplotlib.pyplot as plt\n",
    "import numpy as np\n",
    "import torch\n",
    "import torch.nn as nn\n",
    "import torch.nn.functional as F\n",
    "import torch.optim as optim\n",
    "from torch.utils.data import Dataset\n",
    "from torch.utils.data import DataLoader\n",
    "from torch.optim import Adam\n",
    "\n",
    "dataset = np.load('data/2d_pcl_dataset.npz')\n",
    "X, y = dataset['X'], dataset['y']\n",
    "\n",
    "X0 = X[y==0] # 50 2D points have label 0\n",
    "X1 = X[y==1] # 50 2D points have label 1\n",
    "\n",
    "def plot(X0, X1, fit_param=None):\n",
    "    plt.scatter(X0[:,0], X0[:,1], color='red', label=0)\n",
    "    plt.scatter(X1[:,0], X1[:,1], color='blue', label=1)\n",
    "    \n",
    "    plt.xlim([-0.55, 0.55])\n",
    "    plt.ylim([-0.35, 0.25])\n",
    "    plt.legend()\n",
    "    plt.show()\n",
    "    plt.clf()\n",
    "\n",
    "plot(X0, X1)"
   ]
  },
  {
   "cell_type": "markdown",
   "metadata": {},
   "source": [
    "## Logistic Regression for the point cloud classification task\n"
   ]
  },
  {
   "cell_type": "markdown",
   "metadata": {},
   "source": [
    "Starting by filling in the `Simple2DDataset` class below. First, in the class constructore `__init__`, you will need to read the right `2d_pcl_dataset.npz` from disk.\n",
    "\n",
    "Second, in the `__getitem__`, you will need to take a single data point and its label based on its index `idx`"
   ]
  },
  {
   "cell_type": "code",
   "execution_count": 2,
   "metadata": {},
   "outputs": [],
   "source": [
    "class Simple2DDataset(Dataset):\n",
    "    def __init__(self):\n",
    "        super().__init__()\n",
    "        #########################################################################\n",
    "        # TODO: read data from disk using np.load.\n",
    "        # Data is located in the folder \"data\".\n",
    "        # Save samples and labels to class members self.X and self.y respectively.\n",
    "        # samples should be an Nx2 numpy array. Labels should be Nx1.\n",
    "        #########################################################################\n",
    "        dataset = np.load('data/2d_pcl_dataset.npz')\n",
    "        X, y = dataset['X'], dataset['y']\n",
    "        self.X = X\n",
    "        self.y = y\n",
    "     \n",
    "    def __len__(self):\n",
    "        # Returns the number of samples in the dataset.\n",
    "        return self.X.shape[0]\n",
    "    \n",
    "    def __getitem__(self, idx):\n",
    "        #########################################################################\n",
    "        # TODO: return the sample and label with index idx\n",
    "        #########################################################################\n",
    "        point = X[idx]\n",
    "        label = y[idx]\n",
    "        \n",
    "        # Convert to tensor.\n",
    "        return torch.from_numpy(point).float(), \\\n",
    "               torch.from_numpy(label[np.newaxis]).float()\n"
   ]
  },
  {
   "cell_type": "markdown",
   "metadata": {},
   "source": [
    "With the complete `Simple2DDataset`, we can create a PyTorch dataloader\n",
    "\n",
    "**NOTE**: if you encounter some unexpected errors in data loading, try setting `NUM_WORKERS = 0`"
   ]
  },
  {
   "cell_type": "code",
   "execution_count": 8,
   "metadata": {},
   "outputs": [],
   "source": [
    "BATCH_SIZE = 4\n",
    "NUM_WORKERS = 0\n",
    "\n",
    "# create the dataloader\n",
    "dataset = Simple2DDataset()\n",
    "train_dataloader = DataLoader(\n",
    "    dataset,\n",
    "    batch_size=BATCH_SIZE,\n",
    "    num_workers=NUM_WORKERS,\n",
    "    shuffle=True\n",
    ")"
   ]
  },
  {
   "cell_type": "markdown",
   "metadata": {},
   "source": [
    "Now, define your first network by filling in the `LinearClassifier` class below.\n",
    "\n",
    "Add a single linear layer `nn.Linear` inside the `nn.Sequential` call. The input is 2D, and the output should be a single value, corresponding to the probability of a given 2D point being part of cluster 0."
   ]
  },
  {
   "cell_type": "code",
   "execution_count": 4,
   "metadata": {},
   "outputs": [],
   "source": [
    "class LinearClassifier(nn.Module):\n",
    "    def __init__(self):\n",
    "        super().__init__()\n",
    "\n",
    "        self.codename = 'linear'\n",
    "\n",
    "        #########################################################################\n",
    "        # TODO: add a single linear layer with nn.Linear, inside the `nn.Sequential` call.\n",
    "        # Input is 2D.\n",
    "        # Output is a single value.\n",
    "        #########################################################################\n",
    "        self.model = nn.Sequential(nn.Linear(2,1))\n",
    "        \n",
    "    def forward(self, batch):\n",
    "        # Process batch using the defined model.\n",
    "        x = self.model(batch)\n",
    "        # Final sigmoid activation to obtain a probability between 0 and 1.\n",
    "        return torch.sigmoid(x)"
   ]
  },
  {
   "cell_type": "markdown",
   "metadata": {},
   "source": [
    "Now, you are asked to implement the training loop below"
   ]
  },
  {
   "cell_type": "code",
   "execution_count": 11,
   "metadata": {},
   "outputs": [],
   "source": [
    "def train(net, optimizer, dataloader, epoch):\n",
    "    net.train()\n",
    "    loss_sum = 0\n",
    "    for batch_idx, (point, label) in enumerate(dataloader):\n",
    "        # First we need to zero the gradient, otherwise PyTorch would accumulate them\n",
    "        optimizer.zero_grad()\n",
    "\n",
    "        #########################################################################\n",
    "        #TODO: \n",
    "        # 1. forward pass of the network to obtain the predictions given the batch\n",
    "        # 2. compute the loss using F.binary_cross_entropy\n",
    "        # 3. backward pass on the loss using loss.backward(), and one step \n",
    "        # of gradient descent (optimization) using optimizer.step()\n",
    "        #########################################################################\n",
    "        output=net(point)\n",
    "        loss = F.binary_cross_entropy(output,label)\n",
    "        loss.backward()\n",
    "        optimizer.step()\n",
    "        loss_sum += loss\n",
    "    return loss_sum\n",
    "        "
   ]
  },
  {
   "cell_type": "markdown",
   "metadata": {},
   "source": [
    "You can now run below to train the linear model."
   ]
  },
  {
   "cell_type": "code",
   "execution_count": 12,
   "metadata": {
    "scrolled": true,
    "tags": []
   },
   "outputs": [
    {
     "name": "stdout",
     "output_type": "stream",
     "text": [
      "[Epoch 01] Loss: 15.1115\n",
      "[Epoch 02] Loss: 11.3406\n",
      "[Epoch 03] Loss: 9.4790\n",
      "[Epoch 04] Loss: 8.7273\n",
      "[Epoch 05] Loss: 8.2701\n",
      "[Epoch 06] Loss: 7.8971\n",
      "[Epoch 07] Loss: 7.5982\n",
      "[Epoch 08] Loss: 7.5734\n",
      "[Epoch 09] Loss: 7.3703\n",
      "[Epoch 10] Loss: 7.2527\n",
      "[Epoch 11] Loss: 7.1629\n",
      "[Epoch 12] Loss: 7.1246\n",
      "[Epoch 13] Loss: 7.1357\n",
      "[Epoch 14] Loss: 7.0978\n",
      "[Epoch 15] Loss: 7.0535\n",
      "[Epoch 16] Loss: 6.9865\n",
      "[Epoch 17] Loss: 6.9832\n",
      "[Epoch 18] Loss: 6.9297\n",
      "[Epoch 19] Loss: 7.0335\n",
      "[Epoch 20] Loss: 7.0225\n",
      "[Epoch 21] Loss: 7.0589\n",
      "[Epoch 22] Loss: 7.2575\n",
      "[Epoch 23] Loss: 7.0177\n",
      "[Epoch 24] Loss: 6.9582\n",
      "[Epoch 25] Loss: 7.1186\n",
      "[Epoch 26] Loss: 7.0191\n",
      "[Epoch 27] Loss: 6.9228\n",
      "[Epoch 28] Loss: 6.9343\n",
      "[Epoch 29] Loss: 6.9849\n",
      "[Epoch 30] Loss: 6.9302\n",
      "[Epoch 31] Loss: 7.0642\n",
      "[Epoch 32] Loss: 6.8508\n",
      "[Epoch 33] Loss: 6.9055\n",
      "[Epoch 34] Loss: 6.9099\n",
      "[Epoch 35] Loss: 6.8666\n",
      "[Epoch 36] Loss: 6.9230\n",
      "[Epoch 37] Loss: 7.0037\n",
      "[Epoch 38] Loss: 6.8564\n",
      "[Epoch 39] Loss: 6.9446\n",
      "[Epoch 40] Loss: 6.9294\n",
      "[Epoch 41] Loss: 6.8585\n",
      "[Epoch 42] Loss: 6.8787\n",
      "[Epoch 43] Loss: 7.0227\n",
      "[Epoch 44] Loss: 6.8811\n",
      "[Epoch 45] Loss: 6.8675\n",
      "[Epoch 46] Loss: 6.8745\n",
      "[Epoch 47] Loss: 6.9530\n",
      "[Epoch 48] Loss: 6.9201\n",
      "[Epoch 49] Loss: 6.9229\n",
      "[Epoch 50] Loss: 6.8104\n",
      "[Epoch 51] Loss: 6.8896\n",
      "[Epoch 52] Loss: 6.9419\n",
      "[Epoch 53] Loss: 6.9078\n",
      "[Epoch 54] Loss: 6.8560\n",
      "[Epoch 55] Loss: 6.8933\n",
      "[Epoch 56] Loss: 6.9599\n",
      "[Epoch 57] Loss: 6.9780\n",
      "[Epoch 58] Loss: 6.8899\n",
      "[Epoch 59] Loss: 6.8505\n",
      "[Epoch 60] Loss: 7.0533\n",
      "[Epoch 61] Loss: 6.9073\n",
      "[Epoch 62] Loss: 7.0335\n",
      "[Epoch 63] Loss: 6.8863\n",
      "[Epoch 64] Loss: 6.9686\n",
      "[Epoch 65] Loss: 6.9797\n",
      "[Epoch 66] Loss: 7.0056\n",
      "[Epoch 67] Loss: 7.0095\n",
      "[Epoch 68] Loss: 7.0234\n",
      "[Epoch 69] Loss: 6.9665\n",
      "[Epoch 70] Loss: 7.0030\n",
      "[Epoch 71] Loss: 6.9204\n",
      "[Epoch 72] Loss: 6.9134\n",
      "[Epoch 73] Loss: 6.9255\n",
      "[Epoch 74] Loss: 6.9046\n",
      "[Epoch 75] Loss: 6.9978\n",
      "[Epoch 76] Loss: 6.9671\n",
      "[Epoch 77] Loss: 6.9209\n",
      "[Epoch 78] Loss: 6.8740\n",
      "[Epoch 79] Loss: 6.9831\n",
      "[Epoch 80] Loss: 6.9874\n",
      "[Epoch 81] Loss: 6.9815\n",
      "[Epoch 82] Loss: 6.9565\n",
      "[Epoch 83] Loss: 6.9235\n",
      "[Epoch 84] Loss: 6.8924\n",
      "[Epoch 85] Loss: 6.9254\n",
      "[Epoch 86] Loss: 6.9269\n",
      "[Epoch 87] Loss: 6.9548\n",
      "[Epoch 88] Loss: 6.8301\n",
      "[Epoch 89] Loss: 6.9356\n",
      "[Epoch 90] Loss: 7.1467\n",
      "[Epoch 91] Loss: 7.1029\n",
      "[Epoch 92] Loss: 6.8666\n",
      "[Epoch 93] Loss: 6.9231\n",
      "[Epoch 94] Loss: 6.9531\n",
      "[Epoch 95] Loss: 6.8722\n",
      "[Epoch 96] Loss: 6.8788\n",
      "[Epoch 97] Loss: 6.9212\n",
      "[Epoch 98] Loss: 7.0246\n",
      "[Epoch 99] Loss: 6.9897\n",
      "[Epoch 100] Loss: 6.8490\n"
     ]
    }
   ],
   "source": [
    "NUM_EPOCHS = 100\n",
    "# create the network.\n",
    "net = LinearClassifier()\n",
    "\n",
    "# create the optimizer.\n",
    "optimizer = Adam(net.parameters(), lr=0.1)\n",
    "\n",
    "best_accuracy = 0\n",
    "for epoch_idx in range(NUM_EPOCHS):\n",
    "    loss = train(net, optimizer, train_dataloader, epoch_idx)\n",
    "    print('[Epoch %02d] Loss: %.4f' % (epoch_idx + 1, loss))"
   ]
  },
  {
   "cell_type": "markdown",
   "metadata": {},
   "source": [
    "Now plot your result below.\n"
   ]
  },
  {
   "cell_type": "code",
   "execution_count": null,
   "metadata": {},
   "outputs": [],
   "source": []
  },
  {
   "cell_type": "code",
   "execution_count": 13,
   "metadata": {},
   "outputs": [
    {
     "data": {
      "image/png": "[encoded data removed]",
      "text/plain": [
       "<Figure size 432x288 with 1 Axes>"
      ]
     },
     "metadata": {
      "needs_background": "light"
     },
     "output_type": "display_data"
    },
    {
     "data": {
      "text/plain": [
       "<Figure size 432x288 with 0 Axes>"
      ]
     },
     "metadata": {},
     "output_type": "display_data"
    }
   ],
   "source": [
    "p = np.linspace(-0.5, 0.5, 500)\n",
    "x_plot, y_plot = np.meshgrid(p, p)\n",
    "X_plot = np.stack((x_plot, y_plot), axis=2).reshape(-1, 2)\n",
    "X_plot = torch.from_numpy(X_plot).float()\n",
    "output = net(X_plot)\n",
    "output = output.detach().numpy()\n",
    "output = output.reshape(x_plot.shape[0], x_plot.shape[1])\n",
    "\n",
    "plt.contour(x_plot, y_plot, output, [0.5],\n",
    "                  colors=('k',),\n",
    "                  linewidths=(3,))\n",
    "plot(X0, X1)\n"
   ]
  },
  {
   "cell_type": "markdown",
   "metadata": {},
   "source": [
    "### Implement your first multi-layer perceptron (MLP) for point cloud classification\n",
    "Now you should notice that your logistic regression model cannot classify the point cloud correctly, and this is as expected :)  \n",
    "Therefore, we now ask you to implement an MLP for the same binary classification task."
   ]
  },
  {
   "cell_type": "code",
   "execution_count": 14,
   "metadata": {},
   "outputs": [],
   "source": [
    "# These are the parameters to be used\n",
    "nInput = 2\n",
    "nOutput = 1\n",
    "nHidden = 16\n",
    "act_fn = nn.ReLU()\n",
    "\n",
    "class MLP(nn.Module):\n",
    "    def __init__(self, nInput, nOutput, nHidden, act_fn):\n",
    "        super().__init__()\n",
    "\n",
    "        # Define the network layers in order.\n",
    "        # Input is 2D (nInput).\n",
    "        # Output is a single value (nOutput).\n",
    "        # Multiple linear layers each followed by a ReLU non-linearity (apart from the last).\n",
    "        #########################################################################\n",
    "        # TODO: add a two-layer MLP, inside the `nn.Sequential` call.\n",
    "        # Input is 2D.\n",
    "        # Output is a single value.\n",
    "\n",
    "        # Hint: unlike logistic regression where you need only one nn.Linear layer, \n",
    "        # here you will have two nn.Linear layers. After the first layer, we \n",
    "        # apply a ReLU activation function. The output is then passed to another \n",
    "        # linear layer. Note that you should use `nHidden` below as the hidden dimension \n",
    "        # of your linear layers.\n",
    "        #########################################################################\n",
    "        layers=[]\n",
    "        layers.append(nn.Sequential(*[nn.Linear(nInput,nHidden),act_fn]))\n",
    "        layers.append(nn.Sequential(*[nn.Linear(nHidden,nOutput)]))\n",
    "        \n",
    "        self.model = nn.Sequential(*layers)\n",
    "        \n",
    "    def forward(self, batch):\n",
    "        # Process batch using the defined model.\n",
    "        x = self.model(batch)\n",
    "        # Final sigmoid activation to obtain a probability.\n",
    "        return torch.sigmoid(x)\n"
   ]
  },
  {
   "cell_type": "markdown",
   "metadata": {},
   "source": [
    "Run below again!"
   ]
  },
  {
   "cell_type": "code",
   "execution_count": 15,
   "metadata": {},
   "outputs": [
    {
     "name": "stdout",
     "output_type": "stream",
     "text": [
      "[Epoch 01] Loss: 12.5878\n",
      "[Epoch 02] Loss: 7.8986\n",
      "[Epoch 03] Loss: 8.6518\n",
      "[Epoch 04] Loss: 8.1063\n",
      "[Epoch 05] Loss: 7.0463\n",
      "[Epoch 06] Loss: 7.0673\n",
      "[Epoch 07] Loss: 7.3656\n",
      "[Epoch 08] Loss: 7.0791\n",
      "[Epoch 09] Loss: 6.2124\n",
      "[Epoch 10] Loss: 6.1040\n",
      "[Epoch 11] Loss: 5.9993\n",
      "[Epoch 12] Loss: 6.2890\n",
      "[Epoch 13] Loss: 7.3306\n",
      "[Epoch 14] Loss: 5.4948\n",
      "[Epoch 15] Loss: 5.5705\n",
      "[Epoch 16] Loss: 4.9610\n",
      "[Epoch 17] Loss: 5.2243\n",
      "[Epoch 18] Loss: 3.4812\n",
      "[Epoch 19] Loss: 2.8168\n",
      "[Epoch 20] Loss: 1.7750\n",
      "[Epoch 21] Loss: 1.5474\n",
      "[Epoch 22] Loss: 0.9641\n",
      "[Epoch 23] Loss: 1.0350\n",
      "[Epoch 24] Loss: 0.7027\n",
      "[Epoch 25] Loss: 0.6942\n",
      "[Epoch 26] Loss: 0.8416\n",
      "[Epoch 27] Loss: 1.4607\n",
      "[Epoch 28] Loss: 0.7201\n",
      "[Epoch 29] Loss: 0.5333\n",
      "[Epoch 30] Loss: 0.4613\n",
      "[Epoch 31] Loss: 0.2683\n",
      "[Epoch 32] Loss: 0.6439\n",
      "[Epoch 33] Loss: 0.2911\n",
      "[Epoch 34] Loss: 0.6036\n",
      "[Epoch 35] Loss: 1.6138\n",
      "[Epoch 36] Loss: 1.7146\n",
      "[Epoch 37] Loss: 1.7495\n",
      "[Epoch 38] Loss: 0.9863\n",
      "[Epoch 39] Loss: 3.0403\n",
      "[Epoch 40] Loss: 2.6496\n",
      "[Epoch 41] Loss: 0.8830\n",
      "[Epoch 42] Loss: 0.8911\n",
      "[Epoch 43] Loss: 0.4247\n",
      "[Epoch 44] Loss: 0.2383\n",
      "[Epoch 45] Loss: 0.1864\n",
      "[Epoch 46] Loss: 0.1717\n",
      "[Epoch 47] Loss: 0.1866\n",
      "[Epoch 48] Loss: 0.1619\n",
      "[Epoch 49] Loss: 0.1550\n",
      "[Epoch 50] Loss: 0.1111\n",
      "[Epoch 51] Loss: 0.1048\n",
      "[Epoch 52] Loss: 0.1019\n",
      "[Epoch 53] Loss: 0.0942\n",
      "[Epoch 54] Loss: 0.0874\n",
      "[Epoch 55] Loss: 0.0871\n",
      "[Epoch 56] Loss: 0.0785\n",
      "[Epoch 57] Loss: 0.0730\n",
      "[Epoch 58] Loss: 0.0743\n",
      "[Epoch 59] Loss: 0.0707\n",
      "[Epoch 60] Loss: 0.0690\n",
      "[Epoch 61] Loss: 0.0712\n",
      "[Epoch 62] Loss: 0.0686\n",
      "[Epoch 63] Loss: 0.0607\n",
      "[Epoch 64] Loss: 0.0588\n",
      "[Epoch 65] Loss: 0.0556\n",
      "[Epoch 66] Loss: 0.0576\n",
      "[Epoch 67] Loss: 0.0505\n",
      "[Epoch 68] Loss: 0.0507\n",
      "[Epoch 69] Loss: 0.0459\n",
      "[Epoch 70] Loss: 0.0470\n",
      "[Epoch 71] Loss: 0.0442\n",
      "[Epoch 72] Loss: 0.0424\n",
      "[Epoch 73] Loss: 0.0429\n",
      "[Epoch 74] Loss: 0.0398\n",
      "[Epoch 75] Loss: 0.0448\n",
      "[Epoch 76] Loss: 0.0437\n",
      "[Epoch 77] Loss: 0.0383\n",
      "[Epoch 78] Loss: 0.0366\n",
      "[Epoch 79] Loss: 0.0360\n",
      "[Epoch 80] Loss: 0.0363\n",
      "[Epoch 81] Loss: 0.0338\n",
      "[Epoch 82] Loss: 0.0316\n",
      "[Epoch 83] Loss: 0.0310\n",
      "[Epoch 84] Loss: 0.0320\n",
      "[Epoch 85] Loss: 0.0290\n",
      "[Epoch 86] Loss: 0.0288\n",
      "[Epoch 87] Loss: 0.0291\n",
      "[Epoch 88] Loss: 0.0273\n",
      "[Epoch 89] Loss: 0.0273\n",
      "[Epoch 90] Loss: 0.0278\n",
      "[Epoch 91] Loss: 0.0264\n",
      "[Epoch 92] Loss: 0.0262\n",
      "[Epoch 93] Loss: 0.0243\n",
      "[Epoch 94] Loss: 0.0229\n",
      "[Epoch 95] Loss: 0.0258\n",
      "[Epoch 96] Loss: 0.0212\n",
      "[Epoch 97] Loss: 0.0255\n",
      "[Epoch 98] Loss: 0.0209\n",
      "[Epoch 99] Loss: 0.0222\n",
      "[Epoch 100] Loss: 0.0215\n",
      "[Epoch 101] Loss: 0.0207\n",
      "[Epoch 102] Loss: 0.0208\n",
      "[Epoch 103] Loss: 0.0187\n",
      "[Epoch 104] Loss: 0.0191\n",
      "[Epoch 105] Loss: 0.0192\n",
      "[Epoch 106] Loss: 0.0194\n",
      "[Epoch 107] Loss: 0.0171\n",
      "[Epoch 108] Loss: 0.0163\n",
      "[Epoch 109] Loss: 0.0175\n",
      "[Epoch 110] Loss: 0.0169\n",
      "[Epoch 111] Loss: 0.0183\n",
      "[Epoch 112] Loss: 0.0157\n",
      "[Epoch 113] Loss: 0.0150\n",
      "[Epoch 114] Loss: 0.0158\n",
      "[Epoch 115] Loss: 0.0148\n",
      "[Epoch 116] Loss: 0.0142\n",
      "[Epoch 117] Loss: 0.0138\n",
      "[Epoch 118] Loss: 0.0144\n",
      "[Epoch 119] Loss: 0.0141\n",
      "[Epoch 120] Loss: 0.0135\n",
      "[Epoch 121] Loss: 0.0122\n",
      "[Epoch 122] Loss: 0.0129\n",
      "[Epoch 123] Loss: 0.0130\n",
      "[Epoch 124] Loss: 0.0108\n",
      "[Epoch 125] Loss: 0.0133\n",
      "[Epoch 126] Loss: 0.0130\n",
      "[Epoch 127] Loss: 0.0111\n",
      "[Epoch 128] Loss: 0.0106\n",
      "[Epoch 129] Loss: 0.0116\n",
      "[Epoch 130] Loss: 0.0118\n",
      "[Epoch 131] Loss: 0.0106\n",
      "[Epoch 132] Loss: 0.0099\n",
      "[Epoch 133] Loss: 0.0106\n",
      "[Epoch 134] Loss: 0.0101\n",
      "[Epoch 135] Loss: 0.0096\n",
      "[Epoch 136] Loss: 0.0096\n",
      "[Epoch 137] Loss: 0.0099\n",
      "[Epoch 138] Loss: 0.0088\n",
      "[Epoch 139] Loss: 0.0088\n",
      "[Epoch 140] Loss: 0.0087\n",
      "[Epoch 141] Loss: 0.0085\n",
      "[Epoch 142] Loss: 0.0086\n",
      "[Epoch 143] Loss: 0.0088\n",
      "[Epoch 144] Loss: 0.0089\n",
      "[Epoch 145] Loss: 0.0084\n",
      "[Epoch 146] Loss: 0.0078\n",
      "[Epoch 147] Loss: 0.0083\n",
      "[Epoch 148] Loss: 0.0074\n",
      "[Epoch 149] Loss: 0.0071\n",
      "[Epoch 150] Loss: 0.0076\n",
      "[Epoch 151] Loss: 0.0079\n",
      "[Epoch 152] Loss: 0.0083\n",
      "[Epoch 153] Loss: 0.0069\n",
      "[Epoch 154] Loss: 0.0072\n",
      "[Epoch 155] Loss: 0.0065\n",
      "[Epoch 156] Loss: 0.0063\n",
      "[Epoch 157] Loss: 0.0067\n",
      "[Epoch 158] Loss: 0.0062\n",
      "[Epoch 159] Loss: 0.0062\n",
      "[Epoch 160] Loss: 0.0063\n",
      "[Epoch 161] Loss: 0.0064\n",
      "[Epoch 162] Loss: 0.0059\n",
      "[Epoch 163] Loss: 0.0058\n",
      "[Epoch 164] Loss: 0.0060\n",
      "[Epoch 165] Loss: 0.0055\n",
      "[Epoch 166] Loss: 0.0058\n",
      "[Epoch 167] Loss: 0.0053\n",
      "[Epoch 168] Loss: 0.0054\n",
      "[Epoch 169] Loss: 0.0052\n",
      "[Epoch 170] Loss: 0.0050\n",
      "[Epoch 171] Loss: 0.0049\n",
      "[Epoch 172] Loss: 0.0051\n",
      "[Epoch 173] Loss: 0.0048\n",
      "[Epoch 174] Loss: 0.0049\n",
      "[Epoch 175] Loss: 0.0046\n",
      "[Epoch 176] Loss: 0.0047\n",
      "[Epoch 177] Loss: 0.0046\n",
      "[Epoch 178] Loss: 0.0047\n",
      "[Epoch 179] Loss: 0.0047\n",
      "[Epoch 180] Loss: 0.0045\n",
      "[Epoch 181] Loss: 0.0045\n",
      "[Epoch 182] Loss: 0.0042\n",
      "[Epoch 183] Loss: 0.0040\n",
      "[Epoch 184] Loss: 0.0040\n",
      "[Epoch 185] Loss: 0.0038\n",
      "[Epoch 186] Loss: 0.0041\n",
      "[Epoch 187] Loss: 0.0039\n",
      "[Epoch 188] Loss: 0.0036\n",
      "[Epoch 189] Loss: 0.0038\n",
      "[Epoch 190] Loss: 0.0039\n",
      "[Epoch 191] Loss: 0.0035\n",
      "[Epoch 192] Loss: 0.0038\n",
      "[Epoch 193] Loss: 0.0036\n",
      "[Epoch 194] Loss: 0.0035\n",
      "[Epoch 195] Loss: 0.0035\n",
      "[Epoch 196] Loss: 0.0032\n",
      "[Epoch 197] Loss: 0.0033\n",
      "[Epoch 198] Loss: 0.0031\n",
      "[Epoch 199] Loss: 0.0032\n",
      "[Epoch 200] Loss: 0.0030\n"
     ]
    }
   ],
   "source": [
    "NUM_EPOCHS = 200\n",
    "\n",
    "# create the network.\n",
    "net = MLP(nInput, nOutput, nHidden, act_fn)\n",
    "\n",
    "# create the optimizer.\n",
    "optimizer = Adam(net.parameters(), lr=0.1)\n",
    "\n",
    "best_accuracy = 0\n",
    "for epoch_idx in range(NUM_EPOCHS):\n",
    "    loss = train(net, optimizer, train_dataloader, epoch_idx)\n",
    "    print('[Epoch %02d] Loss: %.4f' % (epoch_idx + 1, loss))"
   ]
  },
  {
   "cell_type": "markdown",
   "metadata": {},
   "source": [
    "Again plot your result. You should see that the decision boundary can clearly separate the point clouds.\n"
   ]
  },
  {
   "cell_type": "code",
   "execution_count": 16,
   "metadata": {},
   "outputs": [
    {
     "data": {
      "image/png": "[encoded data removed]",
      "text/plain": [
       "<Figure size 432x288 with 1 Axes>"
      ]
     },
     "metadata": {
      "needs_background": "light"
     },
     "output_type": "display_data"
    },
    {
     "data": {
      "text/plain": [
       "<Figure size 432x288 with 0 Axes>"
      ]
     },
     "metadata": {},
     "output_type": "display_data"
    }
   ],
   "source": [
    "p = np.linspace(-0.5, 0.5, 500)\n",
    "x_plot, y_plot = np.meshgrid(p, p)\n",
    "X_plot = np.stack((x_plot, y_plot), axis=2).reshape(-1, 2)\n",
    "X_plot = torch.from_numpy(X_plot).float()\n",
    "output = net(X_plot)\n",
    "output = output.detach().numpy()\n",
    "output = output.reshape(x_plot.shape[0], x_plot.shape[1])\n",
    "\n",
    "plt.contour(x_plot, y_plot, output, [0.5],\n",
    "                  colors=('k',),\n",
    "                  linewidths=(3,))\n",
    "plot(X0, X1)"
   ]
  },
  {
   "cell_type": "markdown",
   "metadata": {},
   "source": [
    "When you are done, move forward to `image_classification.ipynb`."
   ]
  },
  {
   "cell_type": "markdown",
   "metadata": {},
   "source": []
  }
 ],
 "metadata": {
  "kernelspec": {
   "display_name": "Python 3",
   "language": "python",
   "name": "python3"
  },
  "language_info": {
   "codemirror_mode": {
    "name": "ipython",
    "version": 3
   },
   "file_extension": ".py",
   "mimetype": "text/x-python",
   "name": "python",
   "nbconvert_exporter": "python",
   "pygments_lexer": "ipython3",
   "version": "3.6.12"
  },
  "vscode": {
   "interpreter": {
    "hash": "d268b61a0efacafa8645774cb6d0204c9f01d7563ef03f7672146d044e8f345c"
   }
  }
 },
 "nbformat": 4,
 "nbformat_minor": 4
}
